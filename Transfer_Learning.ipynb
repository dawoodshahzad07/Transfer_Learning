{
  "nbformat": 4,
  "nbformat_minor": 0,
  "metadata": {
    "colab": {
      "provenance": [],
      "gpuType": "T4",
      "authorship_tag": "ABX9TyMKgRroH/XlaTXpZ9qZGtJL",
      "include_colab_link": true
    },
    "kernelspec": {
      "name": "python3",
      "display_name": "Python 3"
    },
    "language_info": {
      "name": "python"
    },
    "accelerator": "GPU"
  },
  "cells": [
    {
      "cell_type": "markdown",
      "metadata": {
        "id": "view-in-github",
        "colab_type": "text"
      },
      "source": [
        "<a href=\"https://colab.research.google.com/github/dawoodshahzad07/Transfer_Learning/blob/main/Transfer_Learning.ipynb\" target=\"_parent\"><img src=\"https://colab.research.google.com/assets/colab-badge.svg\" alt=\"Open In Colab\"/></a>"
      ]
    },
    {
      "cell_type": "markdown",
      "source": [
        "```\n",
        "Weight Initializers:\n",
        "Zero: Not recommended.\n",
        "Random: Basic, breaks symmetry.\n",
        "Xavier/Glorot: Good for tanh, sigmoid.\n",
        "He: Best for ReLU variants.\n",
        "LeCun: Useful for tanh, sigmoid.\n",
        "```\n",
        "---\n",
        "```\n",
        "Activation Functions:\n",
        "Sigmoid: Binary classification, vanishing gradient.\n",
        "Tanh: Zero-centered, vanishing gradient.\n",
        "ReLU: General use, efficient, avoids vanishing gradient.\n",
        "Leaky ReLU: Mitigates dying ReLU problem.\n",
        "ELU: Useful for deeper networks.\n",
        "Softmax: Output layer for multi-class classification.\n",
        "```"
      ],
      "metadata": {
        "id": "fc5G4d5d2uiK"
      }
    },
    {
      "cell_type": "code",
      "execution_count": null,
      "metadata": {
        "id": "vigNVL3t2IGN"
      },
      "outputs": [],
      "source": [
        "import os\n",
        "import tensorflow as tf\n",
        "import numpy as np\n",
        "import matplotlib.pyplot as plt\n",
        "import seaborn as sns\n",
        "plt.style.use(\"fivethirtyeight\")\n",
        "%load_ext tensorboard"
      ]
    },
    {
      "cell_type": "code",
      "source": [
        "(X_train_full, y_train_full), (X_test, y_test) = tf.keras.datasets.mnist.load_data()\n",
        "X_train_full = X_train_full / 255.0\n",
        "X_test = X_test / 255.0\n",
        "X_valid, X_train = X_train_full[:5000], X_train_full[5000:]\n",
        "y_valid, y_train = y_train_full[:5000], y_train_full[5000:]\n"
      ],
      "metadata": {
        "colab": {
          "base_uri": "https://localhost:8080/"
        },
        "id": "cv33gBKs0CTR",
        "outputId": "eedf876a-0a8e-4130-8bb7-9023236eff67"
      },
      "execution_count": null,
      "outputs": [
        {
          "output_type": "stream",
          "name": "stdout",
          "text": [
            "Downloading data from https://storage.googleapis.com/tensorflow/tf-keras-datasets/mnist.npz\n",
            "11490434/11490434 [==============================] - 0s 0us/step\n"
          ]
        }
      ]
    },
    {
      "cell_type": "code",
      "source": [
        "tf.random.set_seed(42)\n",
        "np.random.seed(42)\n",
        "\n",
        "LAYERS = [ tf.keras.layers.Flatten(input_shape=[28, 28]),\n",
        "    tf.keras.layers.Dense(300, kernel_initializer=\"he_normal\"),\n",
        "    tf.keras.layers.LeakyReLU(),\n",
        "    tf.keras.layers.Dense(100, kernel_initializer=\"he_normal\"),\n",
        "    tf.keras.layers.LeakyReLU(),\n",
        "    tf.keras.layers.Dense(10, activation=\"softmax\")]\n",
        "\n",
        "\n",
        "model = tf.keras.models.Sequential(LAYERS)"
      ],
      "metadata": {
        "id": "Rr6NenJX2gtZ"
      },
      "execution_count": null,
      "outputs": []
    },
    {
      "cell_type": "code",
      "source": [
        "model.compile(loss=\"sparse_categorical_crossentropy\",\n",
        "              optimizer=tf.keras.optimizers.SGD(learning_rate=1e-3),\n",
        "              metrics=[\"accuracy\"])"
      ],
      "metadata": {
        "id": "PKIgrxGy3Y9F"
      },
      "execution_count": null,
      "outputs": []
    },
    {
      "cell_type": "code",
      "source": [
        "model.summary()"
      ],
      "metadata": {
        "colab": {
          "base_uri": "https://localhost:8080/"
        },
        "id": "yPXXXNZm9Hlx",
        "outputId": "8414c5fd-cab6-4a3a-dcfb-9ee9ee589136"
      },
      "execution_count": null,
      "outputs": [
        {
          "output_type": "stream",
          "name": "stdout",
          "text": [
            "Model: \"sequential\"\n",
            "_________________________________________________________________\n",
            " Layer (type)                Output Shape              Param #   \n",
            "=================================================================\n",
            " flatten (Flatten)           (None, 784)               0         \n",
            "                                                                 \n",
            " dense (Dense)               (None, 300)               235500    \n",
            "                                                                 \n",
            " leaky_re_lu (LeakyReLU)     (None, 300)               0         \n",
            "                                                                 \n",
            " dense_1 (Dense)             (None, 100)               30100     \n",
            "                                                                 \n",
            " leaky_re_lu_1 (LeakyReLU)   (None, 100)               0         \n",
            "                                                                 \n",
            " dense_2 (Dense)             (None, 10)                1010      \n",
            "                                                                 \n",
            "=================================================================\n",
            "Total params: 266610 (1.02 MB)\n",
            "Trainable params: 266610 (1.02 MB)\n",
            "Non-trainable params: 0 (0.00 Byte)\n",
            "_________________________________________________________________\n"
          ]
        }
      ]
    },
    {
      "cell_type": "code",
      "source": [
        "history = model.fit(X_train, y_train, epochs=10,\n",
        "                    validation_data=(X_valid, y_valid), verbose=2)"
      ],
      "metadata": {
        "colab": {
          "base_uri": "https://localhost:8080/"
        },
        "id": "3almtIyM9VN9",
        "outputId": "220c9250-1212-418a-e81a-6a70b9507bcb"
      },
      "execution_count": null,
      "outputs": [
        {
          "output_type": "stream",
          "name": "stdout",
          "text": [
            "Epoch 1/10\n",
            "1719/1719 - 7s - loss: 1.5144 - accuracy: 0.6016 - val_loss: 0.9318 - val_accuracy: 0.8024 - 7s/epoch - 4ms/step\n",
            "Epoch 2/10\n",
            "1719/1719 - 4s - loss: 0.7459 - accuracy: 0.8239 - val_loss: 0.5862 - val_accuracy: 0.8552 - 4s/epoch - 2ms/step\n",
            "Epoch 3/10\n",
            "1719/1719 - 6s - loss: 0.5443 - accuracy: 0.8599 - val_loss: 0.4696 - val_accuracy: 0.8784 - 6s/epoch - 4ms/step\n",
            "Epoch 4/10\n",
            "1719/1719 - 7s - loss: 0.4619 - accuracy: 0.8758 - val_loss: 0.4124 - val_accuracy: 0.8906 - 7s/epoch - 4ms/step\n",
            "Epoch 5/10\n",
            "1719/1719 - 6s - loss: 0.4168 - accuracy: 0.8854 - val_loss: 0.3779 - val_accuracy: 0.8986 - 6s/epoch - 4ms/step\n",
            "Epoch 6/10\n",
            "1719/1719 - 6s - loss: 0.3877 - accuracy: 0.8915 - val_loss: 0.3547 - val_accuracy: 0.9036 - 6s/epoch - 4ms/step\n",
            "Epoch 7/10\n",
            "1719/1719 - 4s - loss: 0.3669 - accuracy: 0.8964 - val_loss: 0.3375 - val_accuracy: 0.9060 - 4s/epoch - 3ms/step\n",
            "Epoch 8/10\n",
            "1719/1719 - 5s - loss: 0.3509 - accuracy: 0.9004 - val_loss: 0.3238 - val_accuracy: 0.9112 - 5s/epoch - 3ms/step\n",
            "Epoch 9/10\n",
            "1719/1719 - 4s - loss: 0.3380 - accuracy: 0.9040 - val_loss: 0.3137 - val_accuracy: 0.9114 - 4s/epoch - 2ms/step\n",
            "Epoch 10/10\n",
            "1719/1719 - 4s - loss: 0.3274 - accuracy: 0.9068 - val_loss: 0.3043 - val_accuracy: 0.9124 - 4s/epoch - 2ms/step\n"
          ]
        }
      ]
    },
    {
      "cell_type": "code",
      "source": [
        "model.save(\"full_mnist_model.h5\")"
      ],
      "metadata": {
        "colab": {
          "base_uri": "https://localhost:8080/"
        },
        "id": "qFpe2SQC97Wv",
        "outputId": "05ceb049-53cb-4de6-b3d0-6efaa875bac8"
      },
      "execution_count": null,
      "outputs": [
        {
          "output_type": "stream",
          "name": "stderr",
          "text": [
            "/usr/local/lib/python3.10/dist-packages/keras/src/engine/training.py:3103: UserWarning: You are saving your model as an HDF5 file via `model.save()`. This file format is considered legacy. We recommend using instead the native Keras format, e.g. `model.save('my_model.keras')`.\n",
            "  saving_api.save_model(\n"
          ]
        }
      ]
    },
    {
      "cell_type": "code",
      "source": [
        "load_full_mnist_model = tf.keras.models.load_model(\"full_mnist_model.h5\")"
      ],
      "metadata": {
        "id": "6ooSFJsx-Lya"
      },
      "execution_count": null,
      "outputs": []
    },
    {
      "cell_type": "code",
      "source": [
        "load_full_mnist_model.summary()"
      ],
      "metadata": {
        "colab": {
          "base_uri": "https://localhost:8080/"
        },
        "id": "M8_iRAV8-geX",
        "outputId": "61886db6-3938-4231-91e1-5001ca1ef05b"
      },
      "execution_count": null,
      "outputs": [
        {
          "output_type": "stream",
          "name": "stdout",
          "text": [
            "Model: \"sequential\"\n",
            "_________________________________________________________________\n",
            " Layer (type)                Output Shape              Param #   \n",
            "=================================================================\n",
            " flatten (Flatten)           (None, 784)               0         \n",
            "                                                                 \n",
            " dense (Dense)               (None, 300)               235500    \n",
            "                                                                 \n",
            " leaky_re_lu (LeakyReLU)     (None, 300)               0         \n",
            "                                                                 \n",
            " dense_1 (Dense)             (None, 100)               30100     \n",
            "                                                                 \n",
            " leaky_re_lu_1 (LeakyReLU)   (None, 100)               0         \n",
            "                                                                 \n",
            " dense_2 (Dense)             (None, 10)                1010      \n",
            "                                                                 \n",
            "=================================================================\n",
            "Total params: 266610 (1.02 MB)\n",
            "Trainable params: 266610 (1.02 MB)\n",
            "Non-trainable params: 0 (0.00 Byte)\n",
            "_________________________________________________________________\n"
          ]
        }
      ]
    },
    {
      "cell_type": "markdown",
      "source": [
        "#Transfer Learning:"
      ],
      "metadata": {
        "id": "H1wMA9Sk-pXR"
      }
    },
    {
      "cell_type": "code",
      "source": [
        "for layer in load_full_mnist_model.layers:\n",
        "  print(f\"{layer.name} : {layer.trainable}\")"
      ],
      "metadata": {
        "id": "IZUg3NHm-iaR",
        "colab": {
          "base_uri": "https://localhost:8080/"
        },
        "outputId": "b07c1e22-53a7-4a3a-907a-0a67db6fbd62"
      },
      "execution_count": null,
      "outputs": [
        {
          "output_type": "stream",
          "name": "stdout",
          "text": [
            "flatten : True\n",
            "dense : True\n",
            "leaky_re_lu : True\n",
            "dense_1 : True\n",
            "leaky_re_lu_1 : True\n",
            "dense_2 : True\n"
          ]
        }
      ]
    },
    {
      "cell_type": "code",
      "source": [
        "for layer in load_full_mnist_model.layers[:-1]:\n",
        "  print(f\"{layer.name} : {layer.trainable}\")"
      ],
      "metadata": {
        "colab": {
          "base_uri": "https://localhost:8080/"
        },
        "id": "edGKiDcL6ZAJ",
        "outputId": "7b349d0b-11a4-4d21-d3cb-6589956ac05e"
      },
      "execution_count": null,
      "outputs": [
        {
          "output_type": "stream",
          "name": "stdout",
          "text": [
            "flatten : True\n",
            "dense : True\n",
            "leaky_re_lu : True\n",
            "dense_1 : True\n",
            "leaky_re_lu_1 : True\n"
          ]
        }
      ]
    },
    {
      "cell_type": "code",
      "source": [
        "for layer in load_full_mnist_model.layers[:-1]:\n",
        "  layer.trainable = False\n",
        "  print(f\"{layer.name} : {layer.trainable}\")"
      ],
      "metadata": {
        "colab": {
          "base_uri": "https://localhost:8080/"
        },
        "id": "Oj_T98Qy7mrh",
        "outputId": "94196083-1385-4cdb-ce62-115aeda6ec9e"
      },
      "execution_count": null,
      "outputs": [
        {
          "output_type": "stream",
          "name": "stdout",
          "text": [
            "flatten : False\n",
            "dense : False\n",
            "leaky_re_lu : False\n",
            "dense_1 : False\n",
            "leaky_re_lu_1 : False\n"
          ]
        }
      ]
    },
    {
      "cell_type": "code",
      "source": [
        "for layer in load_full_mnist_model.layers:\n",
        "  print(f\"{layer.name} : {layer.trainable}\")"
      ],
      "metadata": {
        "colab": {
          "base_uri": "https://localhost:8080/"
        },
        "id": "o-UP9yNZ8MZc",
        "outputId": "bbc04d41-307f-4a40-8686-f6543b482517"
      },
      "execution_count": null,
      "outputs": [
        {
          "output_type": "stream",
          "name": "stdout",
          "text": [
            "flatten : False\n",
            "dense : False\n",
            "leaky_re_lu : False\n",
            "dense_1 : False\n",
            "leaky_re_lu_1 : False\n",
            "dense_2 : True\n"
          ]
        }
      ]
    },
    {
      "cell_type": "code",
      "source": [
        "lower_pretrained_layers = load_full_mnist_model.layers[:-1]\n",
        "\n",
        "new_model = tf.keras.models.Sequential(lower_pretrained_layers)\n",
        "new_model.add(tf.keras.layers.Dense(2, activation=\"softmax\"))"
      ],
      "metadata": {
        "id": "u7kxaLXX8PGZ"
      },
      "execution_count": null,
      "outputs": []
    },
    {
      "cell_type": "code",
      "source": [
        "new_model.summary()"
      ],
      "metadata": {
        "colab": {
          "base_uri": "https://localhost:8080/"
        },
        "id": "f1bT_fBuQ-sS",
        "outputId": "59a120e7-3d2d-424f-957a-f6a1e3236466"
      },
      "execution_count": null,
      "outputs": [
        {
          "output_type": "stream",
          "name": "stdout",
          "text": [
            "Model: \"sequential_1\"\n",
            "_________________________________________________________________\n",
            " Layer (type)                Output Shape              Param #   \n",
            "=================================================================\n",
            " flatten (Flatten)           (None, 784)               0         \n",
            "                                                                 \n",
            " dense (Dense)               (None, 300)               235500    \n",
            "                                                                 \n",
            " leaky_re_lu (LeakyReLU)     (None, 300)               0         \n",
            "                                                                 \n",
            " dense_1 (Dense)             (None, 100)               30100     \n",
            "                                                                 \n",
            " leaky_re_lu_1 (LeakyReLU)   (None, 100)               0         \n",
            "                                                                 \n",
            " dense_3 (Dense)             (None, 2)                 202       \n",
            "                                                                 \n",
            "=================================================================\n",
            "Total params: 265802 (1.01 MB)\n",
            "Trainable params: 202 (808.00 Byte)\n",
            "Non-trainable params: 265600 (1.01 MB)\n",
            "_________________________________________________________________\n"
          ]
        }
      ]
    },
    {
      "cell_type": "code",
      "source": [
        "np.unique(y_train)"
      ],
      "metadata": {
        "colab": {
          "base_uri": "https://localhost:8080/"
        },
        "id": "i5TufiMORNNs",
        "outputId": "80faeff0-b1d4-45b7-9948-c1d0523c9838"
      },
      "execution_count": null,
      "outputs": [
        {
          "output_type": "execute_result",
          "data": {
            "text/plain": [
              "array([0, 1, 2, 3, 4, 5, 6, 7, 8, 9], dtype=uint8)"
            ]
          },
          "metadata": {},
          "execution_count": 16
        }
      ]
    },
    {
      "cell_type": "code",
      "source": [
        " def update_even_odd_labels(labels):\n",
        "  for idx, label in enumerate(labels):\n",
        "    labels[idx] = np.where(label % 2 == 0, 1, 0)\n",
        "  return labels\n"
      ],
      "metadata": {
        "id": "qzpG8Z9EWZxo"
      },
      "execution_count": null,
      "outputs": []
    },
    {
      "cell_type": "code",
      "source": [
        "y_train_bin, y_test_bin, y_valid_bin = update_even_odd_labels([y_train, y_test, y_valid])"
      ],
      "metadata": {
        "id": "Znlamz5xYebG"
      },
      "execution_count": null,
      "outputs": []
    },
    {
      "cell_type": "code",
      "source": [
        "np.unique(y_train_bin)"
      ],
      "metadata": {
        "colab": {
          "base_uri": "https://localhost:8080/"
        },
        "id": "IMF0PYvyZ5D8",
        "outputId": "058689d1-0bfa-4b0e-dbfd-d0d66a8a3ff2"
      },
      "execution_count": null,
      "outputs": [
        {
          "output_type": "execute_result",
          "data": {
            "text/plain": [
              "array([0, 1])"
            ]
          },
          "metadata": {},
          "execution_count": 19
        }
      ]
    },
    {
      "cell_type": "code",
      "source": [
        "new_model.compile(loss=\"sparse_categorical_crossentropy\",\n",
        "                  optimizer=tf.keras.optimizers.SGD(learning_rate=1e-3),\n",
        "                  metrics=[\"accuracy\"])"
      ],
      "metadata": {
        "id": "1xzEg3jctLKL"
      },
      "execution_count": null,
      "outputs": []
    },
    {
      "cell_type": "code",
      "source": [
        "history = new_model.fit(X_train, y_train_bin, epochs= 10, validation_data= (X_valid, y_valid_bin), verbose=1)"
      ],
      "metadata": {
        "id": "nF1QNPYOajvW",
        "colab": {
          "base_uri": "https://localhost:8080/"
        },
        "outputId": "fd473a25-0e7f-4a2b-fef7-2fa4d5d17c35"
      },
      "execution_count": null,
      "outputs": [
        {
          "output_type": "stream",
          "name": "stdout",
          "text": [
            "Epoch 1/10\n",
            "1719/1719 [==============================] - 5s 3ms/step - loss: 0.4495 - accuracy: 0.7961 - val_loss: 0.3256 - val_accuracy: 0.8702\n",
            "Epoch 2/10\n",
            "1719/1719 [==============================] - 5s 3ms/step - loss: 0.3299 - accuracy: 0.8637 - val_loss: 0.3016 - val_accuracy: 0.8790\n",
            "Epoch 3/10\n",
            "1719/1719 [==============================] - 4s 3ms/step - loss: 0.3158 - accuracy: 0.8690 - val_loss: 0.2914 - val_accuracy: 0.8818\n",
            "Epoch 4/10\n",
            "1719/1719 [==============================] - 5s 3ms/step - loss: 0.3089 - accuracy: 0.8722 - val_loss: 0.2859 - val_accuracy: 0.8842\n",
            "Epoch 5/10\n",
            "1719/1719 [==============================] - 5s 3ms/step - loss: 0.3042 - accuracy: 0.8741 - val_loss: 0.2817 - val_accuracy: 0.8870\n",
            "Epoch 6/10\n",
            "1719/1719 [==============================] - 4s 3ms/step - loss: 0.3009 - accuracy: 0.8757 - val_loss: 0.2784 - val_accuracy: 0.8856\n",
            "Epoch 7/10\n",
            "1719/1719 [==============================] - 5s 3ms/step - loss: 0.2980 - accuracy: 0.8769 - val_loss: 0.2759 - val_accuracy: 0.8874\n",
            "Epoch 8/10\n",
            "1719/1719 [==============================] - 5s 3ms/step - loss: 0.2956 - accuracy: 0.8780 - val_loss: 0.2733 - val_accuracy: 0.8900\n",
            "Epoch 9/10\n",
            "1719/1719 [==============================] - 4s 3ms/step - loss: 0.2933 - accuracy: 0.8795 - val_loss: 0.2722 - val_accuracy: 0.8910\n",
            "Epoch 10/10\n",
            "1719/1719 [==============================] - 5s 3ms/step - loss: 0.2913 - accuracy: 0.8804 - val_loss: 0.2693 - val_accuracy: 0.8920\n"
          ]
        }
      ]
    },
    {
      "cell_type": "code",
      "source": [
        "new_model.evaluate(X_test, y_test_bin)"
      ],
      "metadata": {
        "id": "5IEZUbuAs_fM",
        "colab": {
          "base_uri": "https://localhost:8080/"
        },
        "outputId": "4c5e2671-63b8-4036-b852-632b3f4b8222"
      },
      "execution_count": null,
      "outputs": [
        {
          "output_type": "stream",
          "name": "stdout",
          "text": [
            "313/313 [==============================] - 1s 2ms/step - loss: 0.2836 - accuracy: 0.8861\n"
          ]
        },
        {
          "output_type": "execute_result",
          "data": {
            "text/plain": [
              "[0.28360113501548767, 0.8860999941825867]"
            ]
          },
          "metadata": {},
          "execution_count": 22
        }
      ]
    },
    {
      "cell_type": "code",
      "source": [
        "X_new = X_test[:3]\n",
        "\n",
        "y_test[:3], y_test_bin[:3]"
      ],
      "metadata": {
        "colab": {
          "base_uri": "https://localhost:8080/"
        },
        "id": "Y08vJLX8RlAz",
        "outputId": "f61bc3a5-642e-4446-f9a1-2445e425139c"
      },
      "execution_count": null,
      "outputs": [
        {
          "output_type": "execute_result",
          "data": {
            "text/plain": [
              "(array([7, 2, 1], dtype=uint8), array([0, 1, 0]))"
            ]
          },
          "metadata": {},
          "execution_count": 23
        }
      ]
    },
    {
      "cell_type": "code",
      "source": [
        "np.argmax(new_model.predict(X_new), axis=1)"
      ],
      "metadata": {
        "colab": {
          "base_uri": "https://localhost:8080/"
        },
        "id": "iU9zqvtgaZyW",
        "outputId": "af2773dc-31a9-4046-e53c-0020c8a40b57"
      },
      "execution_count": null,
      "outputs": [
        {
          "output_type": "stream",
          "name": "stdout",
          "text": [
            "1/1 [==============================] - 0s 81ms/step\n"
          ]
        },
        {
          "output_type": "execute_result",
          "data": {
            "text/plain": [
              "array([0, 1, 0])"
            ]
          },
          "metadata": {},
          "execution_count": 24
        }
      ]
    },
    {
      "cell_type": "markdown",
      "source": [
        "<h1> Task </h1> <br>\n",
        "if label > 5 == 1 <br>\n",
        "if label <= 5 == 0"
      ],
      "metadata": {
        "id": "RWcaVjwyUAWh"
      }
    },
    {
      "cell_type": "code",
      "source": [
        "new_model.save(\"task.h5\")"
      ],
      "metadata": {
        "id": "7gkSKIaalenc",
        "colab": {
          "base_uri": "https://localhost:8080/"
        },
        "outputId": "193fce15-b74b-4b86-c21b-8b867128457a"
      },
      "execution_count": null,
      "outputs": [
        {
          "output_type": "stream",
          "name": "stderr",
          "text": [
            "/usr/local/lib/python3.10/dist-packages/keras/src/engine/training.py:3103: UserWarning: You are saving your model as an HDF5 file via `model.save()`. This file format is considered legacy. We recommend using instead the native Keras format, e.g. `model.save('my_model.keras')`.\n",
            "  saving_api.save_model(\n"
          ]
        }
      ]
    },
    {
      "cell_type": "code",
      "source": [
        "load_task_model = tf.keras.models.load_model(\"task.h5\")"
      ],
      "metadata": {
        "id": "f5Zsql1OW43u"
      },
      "execution_count": null,
      "outputs": []
    },
    {
      "cell_type": "code",
      "source": [
        "load_task_model.summary()"
      ],
      "metadata": {
        "colab": {
          "base_uri": "https://localhost:8080/"
        },
        "id": "YkQny5IBXQJ2",
        "outputId": "fc12ba65-afea-49ab-b254-ad534d7ea96d"
      },
      "execution_count": null,
      "outputs": [
        {
          "output_type": "stream",
          "name": "stdout",
          "text": [
            "Model: \"sequential_1\"\n",
            "_________________________________________________________________\n",
            " Layer (type)                Output Shape              Param #   \n",
            "=================================================================\n",
            " flatten (Flatten)           (None, 784)               0         \n",
            "                                                                 \n",
            " dense (Dense)               (None, 300)               235500    \n",
            "                                                                 \n",
            " leaky_re_lu (LeakyReLU)     (None, 300)               0         \n",
            "                                                                 \n",
            " dense_1 (Dense)             (None, 100)               30100     \n",
            "                                                                 \n",
            " leaky_re_lu_1 (LeakyReLU)   (None, 100)               0         \n",
            "                                                                 \n",
            " dense_3 (Dense)             (None, 2)                 202       \n",
            "                                                                 \n",
            "=================================================================\n",
            "Total params: 265802 (1.01 MB)\n",
            "Trainable params: 202 (808.00 Byte)\n",
            "Non-trainable params: 265600 (1.01 MB)\n",
            "_________________________________________________________________\n"
          ]
        }
      ]
    },
    {
      "cell_type": "code",
      "source": [
        "for layer in load_task_model.layers:\n",
        "  print(f\"{layer.name} : {layer.trainable}\")"
      ],
      "metadata": {
        "colab": {
          "base_uri": "https://localhost:8080/"
        },
        "id": "mGKZqJxTXSva",
        "outputId": "2ae02f37-6df0-4e11-c3cc-43f408731f73"
      },
      "execution_count": null,
      "outputs": [
        {
          "output_type": "stream",
          "name": "stdout",
          "text": [
            "flatten : False\n",
            "dense : False\n",
            "leaky_re_lu : False\n",
            "dense_1 : False\n",
            "leaky_re_lu_1 : False\n",
            "dense_3 : True\n"
          ]
        }
      ]
    },
    {
      "cell_type": "code",
      "source": [
        "np.unique(y_train)"
      ],
      "metadata": {
        "colab": {
          "base_uri": "https://localhost:8080/"
        },
        "id": "-kPN_sdeXX0i",
        "outputId": "7d4485ff-58c1-4719-9801-c66b585c468f"
      },
      "execution_count": null,
      "outputs": [
        {
          "output_type": "execute_result",
          "data": {
            "text/plain": [
              "array([0, 1, 2, 3, 4, 5, 6, 7, 8, 9], dtype=uint8)"
            ]
          },
          "metadata": {},
          "execution_count": 40
        }
      ]
    },
    {
      "cell_type": "code",
      "source": [
        "def update_low_high_labels(labels):\n",
        "  for idx, label in enumerate(labels):\n",
        "    print(f\"{idx} : {label}\")\n",
        "  return labels\n",
        "update_low_high_labels([y_train, y_test, y_valid])"
      ],
      "metadata": {
        "colab": {
          "base_uri": "https://localhost:8080/"
        },
        "id": "gavPilHvY4jh",
        "outputId": "df309633-9e5b-469d-f0af-6180d3383c70"
      },
      "execution_count": null,
      "outputs": [
        {
          "output_type": "stream",
          "name": "stdout",
          "text": [
            "0 : [7 3 4 ... 5 6 8]\n",
            "1 : [7 2 1 ... 4 5 6]\n",
            "2 : [5 0 4 ... 2 1 2]\n"
          ]
        },
        {
          "output_type": "execute_result",
          "data": {
            "text/plain": [
              "[array([7, 3, 4, ..., 5, 6, 8], dtype=uint8),\n",
              " array([7, 2, 1, ..., 4, 5, 6], dtype=uint8),\n",
              " array([5, 0, 4, ..., 2, 1, 2], dtype=uint8)]"
            ]
          },
          "metadata": {},
          "execution_count": 47
        }
      ]
    },
    {
      "cell_type": "code",
      "source": [
        "def update_low_high_labels(labels):\n",
        "  for idx, label in enumerate(labels):\n",
        "    labels[idx] = np.where(label > 5, 1, 0)\n",
        "  return labels"
      ],
      "metadata": {
        "id": "ou9fCemaYnhc"
      },
      "execution_count": null,
      "outputs": []
    },
    {
      "cell_type": "code",
      "source": [
        "update_low_high_labels([y_train, y_test, y_valid])"
      ],
      "metadata": {
        "colab": {
          "base_uri": "https://localhost:8080/"
        },
        "id": "a26haZeHbG7q",
        "outputId": "d7887c15-dcfd-4b4f-fe6f-72b13ff93287"
      },
      "execution_count": null,
      "outputs": [
        {
          "output_type": "execute_result",
          "data": {
            "text/plain": [
              "[array([1, 0, 0, ..., 0, 1, 1]),\n",
              " array([1, 0, 0, ..., 0, 0, 1]),\n",
              " array([0, 0, 0, ..., 0, 0, 0])]"
            ]
          },
          "metadata": {},
          "execution_count": 51
        }
      ]
    },
    {
      "cell_type": "code",
      "source": [
        "y_train_bin, y_test_bin, y_valid_bin = update_low_high_labels([y_train, y_test, y_valid])"
      ],
      "metadata": {
        "id": "i6O1HMxzbA4x"
      },
      "execution_count": null,
      "outputs": []
    },
    {
      "cell_type": "code",
      "source": [
        "np.unique(y_train_bin)"
      ],
      "metadata": {
        "colab": {
          "base_uri": "https://localhost:8080/"
        },
        "id": "CRvQPXaNbfUd",
        "outputId": "d992e1d7-c7d0-4603-8d0c-cd54e40199c9"
      },
      "execution_count": null,
      "outputs": [
        {
          "output_type": "execute_result",
          "data": {
            "text/plain": [
              "array([0, 1])"
            ]
          },
          "metadata": {},
          "execution_count": 53
        }
      ]
    },
    {
      "cell_type": "code",
      "source": [
        "load_task_model.compile(loss = \"sparse_categorical_crossentropy\",\n",
        "                        optimizer = tf.keras.optimizers.SGD(learning_rate=1e-3),\n",
        "metrics=[\"accuracy\"])"
      ],
      "metadata": {
        "id": "c0hvtpIWcF2K"
      },
      "execution_count": null,
      "outputs": []
    },
    {
      "cell_type": "code",
      "source": [
        "history_task = load_task_model.fit(X_train, y_train_bin, epochs=10, validation_data=(X_valid, y_valid_bin),verbose=1)"
      ],
      "metadata": {
        "colab": {
          "base_uri": "https://localhost:8080/"
        },
        "id": "zkLVbyCufC11",
        "outputId": "ef689e44-fc72-4eae-d5e0-37b9e9d72cbc"
      },
      "execution_count": null,
      "outputs": [
        {
          "output_type": "stream",
          "name": "stdout",
          "text": [
            "Epoch 1/10\n",
            "1719/1719 [==============================] - 5s 3ms/step - loss: 0.6204 - accuracy: 0.6953 - val_loss: 0.4659 - val_accuracy: 0.7684\n",
            "Epoch 2/10\n",
            "1719/1719 [==============================] - 5s 3ms/step - loss: 0.4288 - accuracy: 0.8033 - val_loss: 0.3971 - val_accuracy: 0.8276\n",
            "Epoch 3/10\n",
            "1719/1719 [==============================] - 5s 3ms/step - loss: 0.3910 - accuracy: 0.8337 - val_loss: 0.3704 - val_accuracy: 0.8456\n",
            "Epoch 4/10\n",
            "1719/1719 [==============================] - 4s 3ms/step - loss: 0.3738 - accuracy: 0.8440 - val_loss: 0.3567 - val_accuracy: 0.8506\n",
            "Epoch 5/10\n",
            "1719/1719 [==============================] - 6s 3ms/step - loss: 0.3636 - accuracy: 0.8489 - val_loss: 0.3469 - val_accuracy: 0.8556\n",
            "Epoch 6/10\n",
            "1719/1719 [==============================] - 4s 3ms/step - loss: 0.3565 - accuracy: 0.8517 - val_loss: 0.3408 - val_accuracy: 0.8584\n",
            "Epoch 7/10\n",
            "1719/1719 [==============================] - 4s 3ms/step - loss: 0.3513 - accuracy: 0.8539 - val_loss: 0.3356 - val_accuracy: 0.8610\n",
            "Epoch 8/10\n",
            "1719/1719 [==============================] - 5s 3ms/step - loss: 0.3470 - accuracy: 0.8562 - val_loss: 0.3309 - val_accuracy: 0.8638\n",
            "Epoch 9/10\n",
            "1719/1719 [==============================] - 4s 3ms/step - loss: 0.3435 - accuracy: 0.8583 - val_loss: 0.3272 - val_accuracy: 0.8648\n",
            "Epoch 10/10\n",
            "1719/1719 [==============================] - 5s 3ms/step - loss: 0.3405 - accuracy: 0.8593 - val_loss: 0.3242 - val_accuracy: 0.8664\n"
          ]
        }
      ]
    },
    {
      "cell_type": "code",
      "source": [
        "load_task_model.evaluate(X_test, y_test_bin)"
      ],
      "metadata": {
        "colab": {
          "base_uri": "https://localhost:8080/"
        },
        "id": "u_PryNh-fzzc",
        "outputId": "a96abb87-4d8e-4a1b-9e1d-d076df7e74df"
      },
      "execution_count": null,
      "outputs": [
        {
          "output_type": "stream",
          "name": "stdout",
          "text": [
            "313/313 [==============================] - 1s 2ms/step - loss: 0.3357 - accuracy: 0.8630\n"
          ]
        },
        {
          "output_type": "execute_result",
          "data": {
            "text/plain": [
              "[0.3357034921646118, 0.8629999756813049]"
            ]
          },
          "metadata": {},
          "execution_count": 62
        }
      ]
    },
    {
      "cell_type": "code",
      "source": [
        "y_test[:3], y_test_bin[:3]"
      ],
      "metadata": {
        "colab": {
          "base_uri": "https://localhost:8080/"
        },
        "id": "hG218Gf0gKRs",
        "outputId": "a5348b5e-a5f1-445a-bcd2-2db6111775d3"
      },
      "execution_count": null,
      "outputs": [
        {
          "output_type": "execute_result",
          "data": {
            "text/plain": [
              "(array([7, 2, 1], dtype=uint8), array([1, 0, 0]))"
            ]
          },
          "metadata": {},
          "execution_count": 67
        }
      ]
    },
    {
      "cell_type": "code",
      "source": [
        "X_new = X_test[:3]"
      ],
      "metadata": {
        "id": "r2n3glTAgi0-"
      },
      "execution_count": null,
      "outputs": []
    },
    {
      "cell_type": "code",
      "source": [
        "np.argmax(load_task_model.predict(X_new), axis=1)"
      ],
      "metadata": {
        "colab": {
          "base_uri": "https://localhost:8080/"
        },
        "id": "3aeZnQGNg3pO",
        "outputId": "675875dc-f64b-41d6-da37-3e8f9fc326f9"
      },
      "execution_count": null,
      "outputs": [
        {
          "output_type": "stream",
          "name": "stdout",
          "text": [
            "1/1 [==============================] - 0s 24ms/step\n"
          ]
        },
        {
          "output_type": "execute_result",
          "data": {
            "text/plain": [
              "array([1, 0, 0])"
            ]
          },
          "metadata": {},
          "execution_count": 70
        }
      ]
    },
    {
      "cell_type": "code",
      "source": [],
      "metadata": {
        "id": "zeZpEDjrg5A6"
      },
      "execution_count": null,
      "outputs": []
    }
  ]
}